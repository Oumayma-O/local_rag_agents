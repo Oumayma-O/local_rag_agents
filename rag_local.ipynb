{
 "cells": [
  {
   "cell_type": "code",
   "execution_count": 30,
   "metadata": {},
   "outputs": [],
   "source": [
    "%%capture --no-stderr\n",
    "%pip install -U langchain tavily-python langgraph matplotlib langchain_community langchain-openai scikit-learn langchainhub langchain-ollama langchain-nomic nomic[local]\n"
   ]
  },
  {
   "cell_type": "code",
   "execution_count": 31,
   "metadata": {},
   "outputs": [
    {
     "name": "stderr",
     "output_type": "stream",
     "text": [
      "USER_AGENT environment variable not set, consider setting it to identify your requests.\n"
     ]
    }
   ],
   "source": [
    "from langchain.text_splitter import RecursiveCharacterTextSplitter\n",
    "from langchain_community.document_loaders import WebBaseLoader\n",
    "from langchain_community.vectorstores import SKLearnVectorStore\n",
    "from langchain_nomic.embeddings import NomicEmbeddings\n",
    "from langchain_core.tools import tool\n",
    "\n",
    "# List of URLs to load documents from\n",
    "urls = [\n",
    "    \"https://lilianweng.github.io/posts/2023-06-23-agent/\",\n",
    "    \"https://lilianweng.github.io/posts/2023-03-15-prompt-engineering/\",\n",
    "    \"https://lilianweng.github.io/posts/2023-10-25-adv-attack-llm/\",\n",
    "]\n",
    "\n",
    "# Load documents from the URLs\n",
    "docs = [WebBaseLoader(url).load() for url in urls]\n",
    "docs_list = [item for sublist in docs for item in sublist]\n",
    "\n",
    "# Initialize a text splitter with specified chunk size and overlap\n",
    "text_splitter = RecursiveCharacterTextSplitter.from_tiktoken_encoder(\n",
    "    chunk_size=250, chunk_overlap=0\n",
    ")\n",
    "\n",
    "# Split the documents into chunks\n",
    "doc_splits = text_splitter.split_documents(docs_list)\n",
    "\n",
    "# Add the document chunks to the \"vector store\" using NomicEmbeddings\n",
    "vectorstore = SKLearnVectorStore.from_documents(\n",
    "    documents=doc_splits,\n",
    "    embedding=NomicEmbeddings(model=\"nomic-embed-text-v1.5\", inference_mode=\"local\"),\n",
    "    #embedding=OpenAIEmbeddings(),\n",
    ")\n",
    "retriever = vectorstore.as_retriever(k=4)"
   ]
  },
  {
   "cell_type": "code",
   "execution_count": 32,
   "metadata": {},
   "outputs": [],
   "source": [
    "from langchain_ollama import ChatOllama\n",
    "from langchain.prompts import PromptTemplate\n",
    "from langchain_core.output_parsers import StrOutputParser\n",
    "\n",
    "prompt = PromptTemplate(\n",
    "    template=\"\"\"You are an assistant for question-answering tasks. \n",
    "    \n",
    "    Use the following documents to answer the question. \n",
    "    \n",
    "    If you don't know the answer, just say that you don't know. \n",
    "    \n",
    "    Use three sentences maximum and keep the answer concise:\n",
    "    Question: {question} \n",
    "    Documents: {documents} \n",
    "    Answer: \n",
    "    \"\"\",\n",
    "    input_variables=[\"question\", \"documents\"],\n",
    ")\n",
    "\n",
    "llm = ChatOllama(\n",
    "    model=\"llama3.1\",\n",
    "    temperature=0,\n",
    ")\n",
    "\n",
    "rag_chain = prompt | llm | StrOutputParser()"
   ]
  },
  {
   "cell_type": "code",
   "execution_count": 33,
   "metadata": {},
   "outputs": [
    {
     "data": {
      "text/plain": [
       "'There are several types of memory in human brains and LLM-powered autonomous agents. They include sensory memory, short-term memory, long-term memory, and maximum inner product search (MIPS). Sensory memory is the earliest stage of memory, providing the ability to retain impressions of sensory information after the original stimuli have ended.'"
      ]
     },
     "execution_count": 33,
     "metadata": {},
     "output_type": "execute_result"
    }
   ],
   "source": [
    "rag_chain.invoke(\n",
    "    {\n",
    "        \"question\": \"What are the types of agent memory?\",\n",
    "        \"documents\": retriever.invoke(\"What are the types of agent memory?\"),\n",
    "    }\n",
    ")"
   ]
  },
  {
   "cell_type": "code",
   "execution_count": 34,
   "metadata": {},
   "outputs": [
    {
     "name": "stdout",
     "output_type": "stream",
     "text": [
      "Here are the scores:\n",
      "\n",
      "{\n",
      "  \"doc1\": \"no\",\n",
      "  \"doc2\": \"yes\",\n",
      "  \"doc3\": \"yes\",\n",
      "  \"doc4\": \"yes\"\n",
      "}\n",
      "\n",
      "Explanation:\n",
      "\n",
      "* Document 1: The document mentions \"Memory\" in the context of a comparison between different algorithms, but it does not explicitly discuss types of agent memory. Score: no\n",
      "* Document 2: This document discusses Generative Agents and mentions \"memory stream\", which is a type of long-term memory module. Score: yes\n",
      "* Document 3: The document has a section on \"Component Two: Memory\" and lists different types of memory, including Maximum Inner Product Search (MIPS). Score: yes\n",
      "* Document 4: This document explicitly discusses the types of agent memory, including sensory memory, short-term memory, and long-term memory. Score: yes\n"
     ]
    }
   ],
   "source": [
    "from langchain.prompts import PromptTemplate\n",
    "from langchain_ollama import ChatOllama\n",
    "from langchain_core.output_parsers import StrOutputParser\n",
    "\n",
    "# Define the modified prompt template\n",
    "prompt = PromptTemplate(\n",
    "    template=\"\"\"You are a grader assessing relevance of retrieved documents to a user question. \n",
    "\n",
    "    Here are the retrieved documents:\n",
    "    {documents}\n",
    "\n",
    "    Here is the user question: {question}\n",
    "\n",
    "    For each document, if it contains keywords related to the user question, grade it as relevant. \n",
    "    It does not need to be a stringent test. The goal is to filter out erroneous retrievals. \n",
    "\n",
    "    Provide a binary score 'yes' or 'no' for each document to indicate whether the document is relevant to the question. \n",
    "    Provide the scores as a JSON list with keys 'doc1', 'doc2', 'doc3', and 'doc4', corresponding to each document.\n",
    "\n",
    "    Scores: \n",
    "    {{\n",
    "        \"doc1\": \"yes/no\",\n",
    "        \"doc2\": \"yes/no\",\n",
    "        \"doc3\": \"yes/no\",\n",
    "        \"doc4\": \"yes/no\"\n",
    "    }}\n",
    "    \"\"\",\n",
    "    input_variables=[\"question\", \"documents\"],\n",
    ")\n",
    "\n",
    "llm = ChatOllama(\n",
    "    model=\"llama3.1\",\n",
    "    temperature=0,\n",
    "    #url='https://7329-34-16-208-221.ngrok-free.app',\n",
    "\n",
    ")\n",
    "\n",
    "# Define a function to generate the input text with multiple documents\n",
    "def format_documents(doc_list):\n",
    "    formatted_docs = \"\"\n",
    "    for i, doc in enumerate(doc_list, start=1):\n",
    "        formatted_docs += f\"Document {i}: {doc}\\n\\n\"\n",
    "    return formatted_docs\n",
    "\n",
    "# Example usage with a list of documents\n",
    "documents = retriever.invoke(\"What are the types of agent memory?\")  # Assuming retriever is defined\n",
    "formatted_documents = format_documents(documents)\n",
    "\n",
    "# Prepare the input for the prompt\n",
    "input_data = {\n",
    "    \"question\": \"What are the types of agent memory?\",\n",
    "    \"documents\": formatted_documents\n",
    "}\n",
    "\n",
    "# Create the RAG chain\n",
    "ret_chain = prompt | llm | StrOutputParser()\n",
    "\n",
    "# Invoke the RAG chain\n",
    "response = ret_chain.invoke(input_data)\n",
    "print(response)\n"
   ]
  },
  {
   "cell_type": "code",
   "execution_count": 35,
   "metadata": {},
   "outputs": [],
   "source": [
    "from langchain_core.prompts import ChatPromptTemplate\n",
    "from langchain_core.pydantic_v1 import BaseModel, Field\n",
    "from langchain_core.output_parsers import JsonOutputParser\n",
    "\n",
    "# JSON\n",
    "llm = ChatOllama(model=\"llama3.1\", \n",
    "                 format=\"json\", \n",
    "                 temperature=0)\n",
    "\n",
    "\n",
    "prompt = PromptTemplate(\n",
    "    template=\"\"\"You are a grader assessing relevance of a retrieved document to a user question. \\n \n",
    "    Here is the retrieved document: \\n\\n {document} \\n\\n\n",
    "    Here is the user question: {question} \\n\n",
    "    If the document contains keywords related to the user question, grade it as relevant. \\n\n",
    "    It does not need to be a stringent test. The goal is to filter out erroneous retrievals. \\n\n",
    "    Give a binary score 'yes' or 'no' score to indicate whether the document is relevant to the question. \\n\n",
    "    Provide the binary score as a JSON with a single key 'score' and no premable or explanation.\"\"\",\n",
    "    input_variables=[\"question\", \"document\"],\n",
    ")\n",
    "\n",
    "retrieval_grader = prompt | llm | JsonOutputParser()"
   ]
  },
  {
   "cell_type": "code",
   "execution_count": 36,
   "metadata": {},
   "outputs": [
    {
     "data": {
      "text/plain": [
       "{'score': 'yes'}"
      ]
     },
     "execution_count": 36,
     "metadata": {},
     "output_type": "execute_result"
    }
   ],
   "source": [
    "retrieval_grader.invoke(\n",
    "    {\n",
    "        \"question\": \"What are the types of agent memory?\",\n",
    "        \"document\": retriever.invoke(\"What are the types of agent memory?\"),\n",
    "    }\n",
    ") "
   ]
  },
  {
   "cell_type": "code",
   "execution_count": 68,
   "metadata": {},
   "outputs": [],
   "source": [
    "from langchain_core.messages import (\n",
    "    BaseMessage,\n",
    ")\n",
    "import operator\n",
    "from typing import Annotated, List,TypedDict\n",
    "\n",
    "\n",
    "class State(TypedDict):\n",
    "    \"\"\"\n",
    "    Represents the state of our graph.\n",
    "\n",
    "    Attributes:\n",
    "        question: question\n",
    "        generation: LLM generation\n",
    "        search: whether to add search\n",
    "        documents: list of documents\n",
    "    \"\"\"\n",
    "\n",
    "    question: str\n",
    "    generation: str\n",
    "    search: str\n",
    "    documents: List[str]\n",
    "    steps: List[str]"
   ]
  },
  {
   "cell_type": "code",
   "execution_count": 69,
   "metadata": {},
   "outputs": [],
   "source": [
    "def retrieve(state:State):\n",
    "    print(\"documents relevant to your question are being retrieved \")\n",
    "    question=state[\"question\"]\n",
    "    documents =retriever.invoke(question)\n",
    "    steps=state['steps']\n",
    "    steps.append(\"retrieve_docs\")\n",
    "    \n",
    "    return { \"documents\" : documents ,\n",
    "              \"question\" : question , \n",
    "              \"steps\" : steps,\n",
    "    }"
   ]
  },
  {
   "cell_type": "code",
   "execution_count": 70,
   "metadata": {},
   "outputs": [],
   "source": [
    "def grade_documents(state:State):\n",
    "    documents=state['documents']\n",
    "    question=state['question']\n",
    "    steps=state['steps']\n",
    "    steps.append(\"grading_retrieved_docs\")\n",
    "    filtred_docs = []\n",
    "    search = \"No\"\n",
    "    for doc in documents:\n",
    "        score = retrieval_grader.invoke({\"question\":question , \"document\":doc.page_content}) \n",
    "        grade =score['score']\n",
    "        if grade == \"yes\" :\n",
    "            filtred_docs.append(doc)\n",
    "        else:\n",
    "            search=\"Yes\"\n",
    "            continue\n",
    "    return { \"documents\" : filtred_docs ,\n",
    "              \"question\" : question , \n",
    "              \"search\" : search,\n",
    "              \"steps\" : steps ,\n",
    "    }\n",
    "\n"
   ]
  },
  {
   "cell_type": "code",
   "execution_count": 56,
   "metadata": {},
   "outputs": [],
   "source": [
    "from langchain_community.tools import DuckDuckGoSearchRun\n",
    "\n",
    "search = DuckDuckGoSearchRun()"
   ]
  },
  {
   "cell_type": "code",
   "execution_count": 41,
   "metadata": {},
   "outputs": [
    {
     "data": {
      "text/plain": [
       "\"Barack Obama—with his wife, Michelle—being sworn in as the 44th president of the United States, January 20, 2009. Key events in the life of Barack Obama. Barack Obama (born August 4, 1961, Honolulu, Hawaii, U.S.) is the 44th president of the United States (2009-17) and the first African American to hold the office. Barack Hussein Obama II (/ b ə ˈ r ɑː k h uː ˈ s eɪ n oʊ ˈ b ɑː m ə / (); born August 4, 1961) is an American politician and attorney. He was the 44th president of the United States from 2009 to 2017. He was the first African-American president in U.S. history. A member of the Democratic Party, he also served as member of the Illinois Senate from 1997 to 2004 and a United States ... As the head of the government of the United States, the president is arguably the most powerful government official in the world. The president is elected to a four-year term via an electoral college system. Since the Twenty-second Amendment was adopted in 1951, the American presidency has been Barack Obamas first name is Barack but his nickname is Barry. President Obama's full name is Barack Hussein Obama. His full, birth name is Barack Hussein Obama, II. He was named after his father ... Barack Obama, the 44th President of the United States, is best known for his historic election as the first African American president, his impactful policies on healthcare, and his eloquent ...\""
      ]
     },
     "execution_count": 41,
     "metadata": {},
     "output_type": "execute_result"
    }
   ],
   "source": [
    "search.run(\"Obama's first name?\")"
   ]
  },
  {
   "cell_type": "code",
   "execution_count": 71,
   "metadata": {},
   "outputs": [],
   "source": [
    "from langchain_community.utilities import DuckDuckGoSearchAPIWrapper\n",
    "from langchain_community.tools import DuckDuckGoSearchResults\n",
    "\n",
    "\n",
    "\n",
    "wrapper = DuckDuckGoSearchAPIWrapper( max_results=2)\n",
    "\n",
    "search = DuckDuckGoSearchResults(api_wrapper=wrapper, source=\"news\")"
   ]
  },
  {
   "cell_type": "code",
   "execution_count": 43,
   "metadata": {},
   "outputs": [
    {
     "data": {
      "text/plain": [
       "'[snippet: Barack Obama—with his wife, Michelle—being sworn in as the 44th president of the United States, January 20, 2009. Key events in the life of Barack Obama. Barack Obama (born August 4, 1961, Honolulu, Hawaii, U.S.) is the 44th president of the United States (2009-17) and the first African American to hold the office., title: Barack Obama | Biography, Parents, Education, Presidency, Books ..., link: https://www.britannica.com/biography/Barack-Obama], [snippet: Barack Hussein Obama II (/ b ə ˈ r ɑː k h uː ˈ s eɪ n oʊ ˈ b ɑː m ə / (); born August 4, 1961) is an American politician and attorney. He was the 44th president of the United States from 2009 to 2017. He was the first African-American president in U.S. history. A member of the Democratic Party, he also served as member of the Illinois Senate from 1997 to 2004 and a United States ..., title: Barack Obama - Simple English Wikipedia, the free encyclopedia, link: https://simple.wikipedia.org/wiki/Barack_Obama], [snippet: James is the most popular name. That was the first name of six presidents. James Madison, 1809-1817. James Monroe, 1817-1825. James Polk, 1845-1849. James Buchanan, 1857-1861. James Garfield, March 4, 1881-September 19, 1881. He was assassinated six and a half months after he was in office. James \"Jimmy\" Carter, 1977-1981., title: Common Names of United States Presidents and First Ladies, link: https://owlcation.com/social-sciences/Common-Names-for-United-States-Presidents-and-First-Ladies], [snippet: As the head of the government of the United States, the president is arguably the most powerful government official in the world. The president is elected to a four-year term via an electoral college system. Since the Twenty-second Amendment was adopted in 1951, the American presidency has been, title: list of presidents of the United States - Encyclopedia Britannica, link: https://www.britannica.com/topic/Presidents-of-the-United-States-1846696]'"
      ]
     },
     "execution_count": 43,
     "metadata": {},
     "output_type": "execute_result"
    }
   ],
   "source": [
    "search.run(\"Obama's first name?\")"
   ]
  },
  {
   "cell_type": "code",
   "execution_count": 72,
   "metadata": {},
   "outputs": [],
   "source": [
    "import pprint\n",
    "\n",
    "from langchain_community.utilities import SearxSearchWrapper\n",
    "\n",
    "searchX = SearxSearchWrapper(searx_host=\"http://localhost:8080\" , k=3)"
   ]
  },
  {
   "cell_type": "code",
   "execution_count": 45,
   "metadata": {},
   "outputs": [
    {
     "data": {
      "text/plain": [
       "\"Why did Obama make the conscious decision to take on his formal African name? His father was also Barack, and also Barry: he chose the nickname when he came to America from Kenya on a scholarship ...\\n\\nBarack Obama's parents met in 1960 while they were students at the University of Hawaii at Manoa.Obama's father, Barack Obama, Sr., the university's first foreign student from an African nation, hailed from Oriang' Kogelo, Rachuonyo North District, in the Nyanza Province of western Kenya. Obama's mother, Stanley Ann Dunham, known as Ann, had been born in Wichita.\\n\\nBarack Obama was the 44 th president of the United States and the first Black commander-in-chief. He served two terms, from 2009 until 2017. He served two terms, from 2009 until 2017.\""
      ]
     },
     "execution_count": 45,
     "metadata": {},
     "output_type": "execute_result"
    }
   ],
   "source": [
    "searchX.run(\"Obama's first name?\",engines=[\"wiki\"])"
   ]
  },
  {
   "cell_type": "code",
   "execution_count": 73,
   "metadata": {},
   "outputs": [],
   "source": [
    "import json\n",
    "from langchain_core.documents import Document  # Ensure this is the correct import\n",
    "\n",
    "\n",
    "def web_search(state:State):\n",
    "    question = state['question']\n",
    "    steps = [state['steps']]\n",
    "    steps.append(\"web_search\")\n",
    "    result=searchX.run(question)\n",
    "    documents = state[\"documents\"]\n",
    "    documents.append(\n",
    "        Document(page_content=result, metadata={\"source\": \"SearX\"})\n",
    "    )\n",
    "    return {\"documents\": documents, \"question\": question, \"steps\": steps}\n",
    "    "
   ]
  },
  {
   "cell_type": "code",
   "execution_count": 47,
   "metadata": {},
   "outputs": [],
   "source": [
    "state ={\n",
    "    \"question\" : \"hello world\", \n",
    "    \"documents\" : [],\n",
    "    \"steps\":[]\n",
    "}"
   ]
  },
  {
   "cell_type": "code",
   "execution_count": 48,
   "metadata": {},
   "outputs": [
    {
     "data": {
      "text/plain": [
       "{'documents': [Document(metadata={'source': 'SearX'}, page_content='A \"Hello, World!\"program is generally a simple computer program which outputs (or displays) to the screen (often the console) a message similar to \"Hello, World!\"while ignoring any user input. A small piece of code in most general-purpose programming languages, this program is used to illustrate a language\\'s basic syntax.A \"Hello, World!\" program is often the first written by a student of a ...\\n\\nHello World! In Computer Science 101, the first program many students create is a simple one that outputs an iconic line of text: \"Hello World!\" Say hello to the world of computer science with this introductory activity that equips students with the basic coding skills and confidence to create apps. Choose from six fun themes to code ...\\n\\nHello, World! Python is a very simple language, and has a very straightforward syntax. It encourages programmers to program without boilerplate (prepared) code. The simplest directive in Python is the \"print\" directive - it simply prints out a line (and also includes a newline, unlike in C). There are two major Python versions, Python 2 and ...')],\n",
       " 'question': 'hello world',\n",
       " 'steps': ['web_search']}"
      ]
     },
     "execution_count": 48,
     "metadata": {},
     "output_type": "execute_result"
    }
   ],
   "source": [
    "web_search(state)"
   ]
  },
  {
   "cell_type": "code",
   "execution_count": 74,
   "metadata": {},
   "outputs": [],
   "source": [
    "def generate(state:State):\n",
    "    question= state['question']\n",
    "    documents = state['documents']\n",
    "    generation = rag_chain.invoke({\"documents\": documents, \"question\": question})\n",
    "    steps = state['steps']\n",
    "    steps.append(\"generate_response\")\n",
    "    return {\n",
    "        \"documents\": documents,\n",
    "        \"question\": question,\n",
    "        \"generation\": generation,\n",
    "        \"steps\": steps,\n",
    "    }\n"
   ]
  },
  {
   "cell_type": "code",
   "execution_count": 50,
   "metadata": {},
   "outputs": [
    {
     "data": {
      "text/plain": [
       "{'documents': [Document(metadata={'source': 'SearX'}, page_content='A \"Hello, World!\"program is generally a simple computer program which outputs (or displays) to the screen (often the console) a message similar to \"Hello, World!\"while ignoring any user input. A small piece of code in most general-purpose programming languages, this program is used to illustrate a language\\'s basic syntax.A \"Hello, World!\" program is often the first written by a student of a ...\\n\\nHello World! In Computer Science 101, the first program many students create is a simple one that outputs an iconic line of text: \"Hello World!\" Say hello to the world of computer science with this introductory activity that equips students with the basic coding skills and confidence to create apps. Choose from six fun themes to code ...\\n\\nHello, World! Python is a very simple language, and has a very straightforward syntax. It encourages programmers to program without boilerplate (prepared) code. The simplest directive in Python is the \"print\" directive - it simply prints out a line (and also includes a newline, unlike in C). There are two major Python versions, Python 2 and ...')],\n",
       " 'question': 'hello world',\n",
       " 'generation': 'A \"Hello, World!\" program is a simple computer program that outputs \"Hello, World!\" to the screen. It\\'s often used to illustrate a language\\'s basic syntax and is typically the first program written by students learning programming. This type of program is found in various general-purpose programming languages.',\n",
       " 'steps': ['web_search', 'generate_response']}"
      ]
     },
     "execution_count": 50,
     "metadata": {},
     "output_type": "execute_result"
    }
   ],
   "source": [
    "generate(state)"
   ]
  },
  {
   "cell_type": "code",
   "execution_count": 75,
   "metadata": {},
   "outputs": [],
   "source": [
    "def decide_to_generate(state:State): \n",
    "    search = state['search']\n",
    "    if search == \"Yes\" : \n",
    "        return \"web_search\"\n",
    "    else : \n",
    "        return \"generate\""
   ]
  },
  {
   "cell_type": "code",
   "execution_count": 76,
   "metadata": {},
   "outputs": [
    {
     "data": {
      "image/jpeg": "[encoded data removed]",
      "text/plain": [
       "<IPython.core.display.Image object>"
      ]
     },
     "metadata": {},
     "output_type": "display_data"
    }
   ],
   "source": [
    "from langgraph.graph import START, END, StateGraph\n",
    "from IPython.display import Image, display\n",
    "\n",
    "workflow = StateGraph(State)\n",
    "\n",
    "workflow.add_node(\"retriever\" , retrieve)\n",
    "workflow.add_node(\"doc_grader\" , grade_documents)\n",
    "workflow.add_node(\"web_search\" , web_search)\n",
    "workflow.add_node(\"generate\" , generate)\n",
    "\n",
    "workflow.set_entry_point(\"retriever\")\n",
    "workflow.add_edge(\"retriever\" , \"doc_grader\")\n",
    "workflow.add_conditional_edges(\"doc_grader\",\n",
    "                               decide_to_generate,\n",
    "                               {\"web_search\" :\"web_search\", \"generate\" : \"generate\"})\n",
    "\n",
    "workflow.add_edge(\"web_search\", \"generate\")\n",
    "workflow.add_edge(\"generate\" , END)\n",
    "\n",
    "\n",
    "\n",
    "custom_graph = workflow.compile()\n",
    "\n",
    "display(Image(custom_graph.get_graph(xray=True).draw_mermaid_png()))\n"
   ]
  },
  {
   "cell_type": "code",
   "execution_count": 79,
   "metadata": {},
   "outputs": [
    {
     "data": {
      "text/plain": [
       "True"
      ]
     },
     "execution_count": 79,
     "metadata": {},
     "output_type": "execute_result"
    }
   ],
   "source": [
    "from dotenv import load_dotenv\n",
    "import os\n",
    "\n",
    "load_dotenv()\n"
   ]
  },
  {
   "cell_type": "code",
   "execution_count": 80,
   "metadata": {},
   "outputs": [],
   "source": [
    "from langfuse.callback import CallbackHandler\n",
    "langfuse_handler = CallbackHandler(\n",
    "    public_key=os.getenv('LANGFUSE_PUBLIC_KEY'),\n",
    "    secret_key=os.getenv('LANGFUSE_SECRET_KEY'),\n",
    "    host=os.getenv('LANGFUSE_HOST'),\n",
    ")"
   ]
  },
  {
   "cell_type": "code",
   "execution_count": 81,
   "metadata": {},
   "outputs": [
    {
     "name": "stdout",
     "output_type": "stream",
     "text": [
      "documents relevant to your question are being retrieved \n"
     ]
    },
    {
     "data": {
      "text/plain": [
       "{'question': 'Hello world',\n",
       " 'generation': 'A \"Hello, World!\" program is a simple computer program that outputs the message \"Hello, World!\" to the screen. This type of program is often used in introductory programming courses to teach basic coding skills. It typically ignores any user input and is designed to be easy to understand and implement.',\n",
       " 'search': 'Yes',\n",
       " 'documents': [Document(metadata={'source': 'SearX'}, page_content='1 week ago - A \"Hello, World!\" program is generally a simple computer program which outputs (or displays) to the screen (often the console) a message similar to \"Hello, World!\" while ignoring any user input. A small piece of code in most general-purpose programming languages, this program is used to illustrate ...\\n\\nHello World! In Computer Science 101, the first program many students create is a simple one that outputs an iconic line of text: \"Hello World!\" Say hello to the world of computer science with this introductory activity that equips students with the basic coding skills and confidence to create apps. Choose from six fun themes to code ...\\n\\nHello, World! Python is a very simple language, and has a very straightforward syntax. It encourages programmers to program without boilerplate (prepared) code.')],\n",
       " 'steps': [['retrieve_docs', 'grading_retrieved_docs'],\n",
       "  'web_search',\n",
       "  'generate_response']}"
      ]
     },
     "execution_count": 81,
     "metadata": {},
     "output_type": "execute_result"
    }
   ],
   "source": [
    "initial_state = {\n",
    "    \"question\": \"Hello world\",\n",
    "    \"steps\": [],\n",
    "    \"documents\":[]\n",
    "}\n",
    "\n",
    "custom_graph.invoke(initial_state , config={\"callbacks\":[langfuse_handler]})"
   ]
  },
  {
   "cell_type": "code",
   "execution_count": null,
   "metadata": {},
   "outputs": [],
   "source": []
  }
 ],
 "metadata": {
  "kernelspec": {
   "display_name": "venv",
   "language": "python",
   "name": "python3"
  },
  "language_info": {
   "codemirror_mode": {
    "name": "ipython",
    "version": 3
   },
   "file_extension": ".py",
   "mimetype": "text/x-python",
   "name": "python",
   "nbconvert_exporter": "python",
   "pygments_lexer": "ipython3",
   "version": "3.12.3"
  }
 },
 "nbformat": 4,
 "nbformat_minor": 2
}
